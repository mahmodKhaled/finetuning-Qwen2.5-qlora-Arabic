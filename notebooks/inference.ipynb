{
  "cells": [
    {
      "cell_type": "code",
      "execution_count": 18,
      "id": "311c57ac-b5f7-4f15-99ff-e0d8d2ce7d9e",
      "metadata": {
        "colab": {
          "base_uri": "https://localhost:8080/"
        },
        "id": "311c57ac-b5f7-4f15-99ff-e0d8d2ce7d9e",
        "outputId": "af4a2e8b-c165-4d49-faae-46f02f0270eb"
      },
      "outputs": [
        {
          "name": "stderr",
          "output_type": "stream",
          "text": [
            "The `load_in_4bit` and `load_in_8bit` arguments are deprecated and will be removed in the future versions. Please, pass a `BitsAndBytesConfig` object in `quantization_config` argument instead.\n"
          ]
        }
      ],
      "source": [
        "from transformers import AutoModelForCausalLM, AutoTokenizer\n",
        "from peft import PeftModel, PeftConfig\n",
        "\n",
        "peft_model_id = \"./model\"\n",
        "config = PeftConfig.from_pretrained(peft_model_id)\n",
        "model = AutoModelForCausalLM.from_pretrained(\n",
        "    config.base_model_name_or_path,\n",
        "    return_dict=True,\n",
        "    load_in_4bit=True,\n",
        "    device_map={\"\": 0},\n",
        ")\n",
        "model = PeftModel.from_pretrained(model, peft_model_id)\n",
        "tokenizer = AutoTokenizer.from_pretrained(config.base_model_name_or_path)"
      ]
    },
    {
      "cell_type": "code",
      "execution_count": 19,
      "id": "58811273-2e8d-463b-b857-685129cd897b",
      "metadata": {
        "id": "58811273-2e8d-463b-b857-685129cd897b",
        "tags": []
      },
      "outputs": [],
      "source": [
        "text = \"لإنسان: سرد ووصف العناصر المميزة للعمارة اليونانية في العصور الكلاسيكية ### المساعد: تتميز العمارة اليونانية في العصور الكلاسيكية بالبحث عن \"\n",
        "device = \"cuda\""
      ]
    },
    {
      "cell_type": "code",
      "execution_count": 20,
      "id": "94bc8a50-b6c2-4d97-8dec-4db25ed8bd7f",
      "metadata": {
        "colab": {
          "base_uri": "https://localhost:8080/"
        },
        "id": "94bc8a50-b6c2-4d97-8dec-4db25ed8bd7f",
        "outputId": "71561fe1-f410-4157-840f-c09499d5043f",
        "tags": []
      },
      "outputs": [
        {
          "name": "stdout",
          "output_type": "stream",
          "text": [
            "لإنسان: سرد ووصف العناصر المميزة للعمارة اليونانية في العصور الكلاسيكية ### المساعد: تتميز العمارة اليونانية في العصور الكلاسيكية بالبحث عن 55 نوعًا من أنواع الأسماء. إليك بعض النقاط الرئيسية حول هذا الأمر:\n",
            "\n",
            "- كان هناك قانون يحدد أسماء لكل نوع محدد.\n",
            "- كانت هذه الأسماء مفتوحة للجميع حتى عام 1900.\n",
            "- تمثل هذا القانون اسماء جميع أنحاء العالم.\n",
            "- اعتمادًا على ذلك، يمكن للهندسة أن تكون كل شيء تقليص.\n",
            "\n",
            "إذا كنت تريد إنشاء أي نوع جديد،\n"
          ]
        }
      ],
      "source": [
        "inputs = tokenizer(text, return_tensors=\"pt\").to(device)\n",
        "outputs = model.generate(**inputs, max_new_tokens=100)\n",
        "print(tokenizer.decode(outputs[0], skip_special_tokens=True))"
      ]
    },
    {
      "cell_type": "code",
      "execution_count": null,
      "id": "t5pGVqLySCaM",
      "metadata": {
        "id": "t5pGVqLySCaM"
      },
      "outputs": [],
      "source": []
    }
  ],
  "metadata": {
    "accelerator": "GPU",
    "colab": {
      "gpuType": "T4",
      "provenance": []
    },
    "kernelspec": {
      "display_name": "Python 3",
      "language": "python",
      "name": "python3"
    },
    "language_info": {
      "codemirror_mode": {
        "name": "ipython",
        "version": 3
      },
      "file_extension": ".py",
      "mimetype": "text/x-python",
      "name": "python",
      "nbconvert_exporter": "python",
      "pygments_lexer": "ipython3",
      "version": "3.9.13"
    }
  },
  "nbformat": 4,
  "nbformat_minor": 5
}
